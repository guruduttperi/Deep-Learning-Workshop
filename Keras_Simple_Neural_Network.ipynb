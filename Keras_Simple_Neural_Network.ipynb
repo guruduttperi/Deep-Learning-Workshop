{
 "cells": [
  {
   "cell_type": "code",
   "execution_count": 48,
   "metadata": {
    "collapsed": true,
    "scrolled": true
   },
   "outputs": [],
   "source": [
    "import numpy as np\n",
    "import keras\n",
    "from keras.models import Sequential\n",
    "from keras.layers.core import Dense"
   ]
  },
  {
   "cell_type": "code",
   "execution_count": 49,
   "metadata": {
    "collapsed": true
   },
   "outputs": [],
   "source": [
    "def simple_nn():\n",
    "    x_train = [[0,0], [0,1], [1,0], [1,1]]\n",
    "    y_train = [[0],[1],[1],[0]]\n",
    "    x_train = np.array(x_train)\n",
    "    y_train = np.array(y_train)\n",
    "    model = Sequential()\n",
    "    model.add(Dense(64, input_dim = 2, activation = 'relu'))\n",
    "    model.add(Dense(32, activation = 'relu'))\n",
    "    model.add(Dense(1, activation = 'sigmoid'))\n",
    "    model.compile(loss = 'binary_crossentropy', optimizer = 'rmsprop', metrics = ['accuracy'])\n",
    "    model.fit(x_train, y_train, epochs = 10, verbose = 2)\n",
    "    return model"
   ]
  },
  {
   "cell_type": "code",
   "execution_count": 50,
   "metadata": {},
   "outputs": [
    {
     "name": "stdout",
     "output_type": "stream",
     "text": [
      "Epoch 1/10\n",
      " - 1s - loss: 0.6632 - acc: 0.7500\n",
      "Epoch 2/10\n",
      " - 0s - loss: 0.6517 - acc: 0.7500\n",
      "Epoch 3/10\n",
      " - 0s - loss: 0.6427 - acc: 0.7500\n",
      "Epoch 4/10\n",
      " - 0s - loss: 0.6364 - acc: 1.0000\n",
      "Epoch 5/10\n",
      " - 0s - loss: 0.6301 - acc: 1.0000\n",
      "Epoch 6/10\n",
      " - 0s - loss: 0.6247 - acc: 1.0000\n",
      "Epoch 7/10\n",
      " - 0s - loss: 0.6197 - acc: 1.0000\n",
      "Epoch 8/10\n",
      " - 0s - loss: 0.6154 - acc: 1.0000\n",
      "Epoch 9/10\n",
      " - 0s - loss: 0.6109 - acc: 1.0000\n",
      "Epoch 10/10\n",
      " - 0s - loss: 0.6064 - acc: 1.0000\n"
     ]
    },
    {
     "data": {
      "text/plain": [
       "<keras.models.Sequential at 0x11db7efd0>"
      ]
     },
     "execution_count": 50,
     "metadata": {},
     "output_type": "execute_result"
    }
   ],
   "source": [
    "simple_nn()"
   ]
  },
  {
   "cell_type": "code",
   "execution_count": 51,
   "metadata": {
    "collapsed": true
   },
   "outputs": [],
   "source": [
    "def performance():\n",
    "    x_test = [[0,1],[1,1]]\n",
    "    y_test = [[1],[0]]\n",
    "    x_test = np.array(x_test)\n",
    "    y_test = np.array(y_test)\n",
    "    model = simple_nn()\n",
    "    y_pred = model.predict(x_test)\n",
    "    print(y_pred)\n",
    "    score = model.evaluate(x_test,y_test)\n",
    "    print(score[0])\n",
    "    print(score[1])"
   ]
  },
  {
   "cell_type": "code",
   "execution_count": 52,
   "metadata": {},
   "outputs": [
    {
     "name": "stdout",
     "output_type": "stream",
     "text": [
      "Epoch 1/10\n",
      " - 1s - loss: 0.6888 - acc: 0.7500\n",
      "Epoch 2/10\n",
      " - 0s - loss: 0.6729 - acc: 0.5000\n",
      "Epoch 3/10\n",
      " - 0s - loss: 0.6618 - acc: 1.0000\n",
      "Epoch 4/10\n",
      " - 0s - loss: 0.6535 - acc: 1.0000\n",
      "Epoch 5/10\n",
      " - 0s - loss: 0.6460 - acc: 1.0000\n",
      "Epoch 6/10\n",
      " - 0s - loss: 0.6403 - acc: 1.0000\n",
      "Epoch 7/10\n",
      " - 0s - loss: 0.6357 - acc: 1.0000\n",
      "Epoch 8/10\n",
      " - 0s - loss: 0.6312 - acc: 1.0000\n",
      "Epoch 9/10\n",
      " - 0s - loss: 0.6265 - acc: 1.0000\n",
      "Epoch 10/10\n",
      " - 0s - loss: 0.6227 - acc: 1.0000\n",
      "[[0.5348608 ]\n",
      " [0.45066664]]\n",
      "2/2 [==============================] - 0s 79ms/step\n",
      "0.7113880515098572\n",
      "0.5\n"
     ]
    }
   ],
   "source": [
    "performance()"
   ]
  },
  {
   "cell_type": "code",
   "execution_count": null,
   "metadata": {
    "collapsed": true
   },
   "outputs": [],
   "source": []
  }
 ],
 "metadata": {
  "kernelspec": {
   "display_name": "Python 3",
   "language": "python",
   "name": "python3"
  },
  "language_info": {
   "codemirror_mode": {
    "name": "ipython",
    "version": 3
   },
   "file_extension": ".py",
   "mimetype": "text/x-python",
   "name": "python",
   "nbconvert_exporter": "python",
   "pygments_lexer": "ipython3",
   "version": "3.6.3"
  }
 },
 "nbformat": 4,
 "nbformat_minor": 2
}
