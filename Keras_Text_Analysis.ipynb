{
 "cells": [
  {
   "cell_type": "code",
   "execution_count": 51,
   "metadata": {},
   "outputs": [],
   "source": [
    "def mmr_train():\n",
    "    f = open('mmr3.txt','r')\n",
    "    content = f.read().splitlines()\n",
    "    f.close()\n",
    "    fw = open('feature.txt', 'w')\n",
    "    norm_txt(fw,content)\n",
    "    fw.close()\n",
    "    \n",
    "    "
   ]
  },
  {
   "cell_type": "code",
   "execution_count": 52,
   "metadata": {
    "collapsed": true
   },
   "outputs": [],
   "source": [
    "def norm_txt(fw,content):\n",
    "    import nltk\n",
    "    from nltk.stem import WordNetLemmatizer\n",
    "    for sen in content:\n",
    "        sensplit = sen.split()\n",
    "        label = sensplit[-1] # last word\n",
    "        sen = sensplit[0:len(sensplit)-1]\n",
    "        sen = ' '.join(sen) #joining the splitted words\n",
    "        nouns = []\n",
    "        nouns.append(label)\n",
    "        words = nltk.word_tokenize(str(sen))\n",
    "        for word, pos in nltk.pos_tag(words):      \n",
    "            if(pos == 'NN' or pos =='NNP' or pos =='NNS' or pos =='NNPS'):\n",
    "                word = WordNetLemmatizer().lemmatize(word)\n",
    "                nouns.append(word)\n",
    "        \n",
    "        fea = ' '.join(nouns)\n",
    "        fw.write(fea)\n",
    "        fw.write('\\n')\n",
    "        \n",
    "            "
   ]
  },
  {
   "cell_type": "code",
   "execution_count": 53,
   "metadata": {},
   "outputs": [],
   "source": [
    "mmr_train()"
   ]
  }
 ],
 "metadata": {
  "kernelspec": {
   "display_name": "Python 3",
   "language": "python",
   "name": "python3"
  },
  "language_info": {
   "codemirror_mode": {
    "name": "ipython",
    "version": 3
   },
   "file_extension": ".py",
   "mimetype": "text/x-python",
   "name": "python",
   "nbconvert_exporter": "python",
   "pygments_lexer": "ipython3",
   "version": "3.6.3"
  }
 },
 "nbformat": 4,
 "nbformat_minor": 2
}
